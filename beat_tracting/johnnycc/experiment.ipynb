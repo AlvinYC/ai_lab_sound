{
 "cells": [
  {
   "cell_type": "markdown",
   "metadata": {},
   "source": [
    "# BASIC LSTM model"
   ]
  },
  {
   "cell_type": "markdown",
   "metadata": {},
   "source": [
    "```python\n",
    "NUM_TIMESTEPS = 3\n",
    "n_of_freq_bins= 128\n",
    "\n",
    "TIME_STEPS  = NUM_TIMESTEPS                   # ss --> sm : 1->3\n",
    "INPUT_SIZE  = n_of_freq_bins\n",
    "OUTPUT_SIZE = 1\n",
    "CELL_SIZE   = 20\n",
    "model.add(LSTM(\n",
    "    units = CELL_SIZE,\n",
    "    input_shape = (TIME_STEPS,INPUT_SIZE),\n",
    "    return_sequences=False,      # True: output at all steps. False: output as last step.\n",
    "    stateful=False,              # True: the final state of batch1 is feed into the initial state of batch2\n",
    "))\n",
    "\n",
    "model.add((Dense(OUTPUT_SIZE)))\n",
    "model.compile(loss=loss_function, optimizer='adam', metrics=[binary_accuracy,precision, recall])\n",
    "```"
   ]
  },
  {
   "cell_type": "markdown",
   "metadata": {},
   "source": [
    "Epoch <font color='red'>500/500</font>\n",
    "12067/12067 [==============================] - 0s<br> \n",
    "- loss: <b>0.0698</b>        - binary_accuracy: <b>0.3665</b>        - precision: <b>0.9950</b>       - recall: <b>0.9826 </b><br>\n",
    "- val_loss: <b>3.0752</b> - val_binary_accuracy: <b>0.2396</b> - val_precision: <b>0.2180</b> - val_recall: <b>0.1529</b>"
   ]
  },
  {
   "cell_type": "markdown",
   "metadata": {},
   "source": [
    "# l2 regulization"
   ]
  },
  {
   "cell_type": "markdown",
   "metadata": {},
   "source": [
    "```python\n",
    "model.add(LSTM(\n",
    "            \n",
    "    W_regularizer = l2(0.005),   # regularization \n",
    "))\n",
    "```\n",
    "加了l2 regularization後，training set的precision跟recall都有降低<br>\n",
    "但是evluaction set的precision/recall也沒有任何提高，倒是loss 有降低一些"
   ]
  },
  {
   "cell_type": "markdown",
   "metadata": {},
   "source": [
    "Epoch <font color='red'>500/500</font><br>\n",
    "12067/12067 [==============================] - 0s <br>\n",
    "- loss: <b>0.3861</b> - binary_accuracy: <b>0.8968</b> - precision: <b>0.8316</b> - recall: <b>0.6077</b> <br>\n",
    "- val_loss: <b>2.1484</b> - val_binary_accuracy: <b>0.7467</b> - val_precision: <b>0.1931</b> - val_recall: <b>0.1185</b>"
   ]
  },
  {
   "cell_type": "markdown",
   "metadata": {},
   "source": [
    "# change label methodology"
   ]
  },
  {
   "cell_type": "markdown",
   "metadata": {},
   "source": [
    "```python\n",
    "  - Y[i]=max(trainYPD3[i:i+NUM_TIMESTEPS])\n",
    "````\n",
    "       change to \n",
    "```python  \n",
    "  - Y[i]= 1 if(trainYPD3[i+1]) == 1 else 0\n",
    "```\n",
    "training phrase    loss 變高, recall 降低<br>\n",
    "validation pharse  一樣無法收斂, 但是loss 沒有那麼高，還是很高"
   ]
  },
  {
   "cell_type": "markdown",
   "metadata": {},
   "source": [
    "Epoch <font color='red'>500/500</font><br>\n",
    "12067/12067 [==============================] - 0s \n",
    "- loss: <b>0.2491</b>     - binary_accuracy: <b>0.9845</b>     - precision: <b>1.0000</b>     - recall: <b>0.7688 </b>\n",
    "- val_loss: <b>1.1445</b> - val_binary_accuracy: <b>0.9151</b> - val_precision: <b>0.0777</b> - val_recall: <b>0.0311</b>"
   ]
  },
  {
   "cell_type": "markdown",
   "metadata": {
    "collapsed": true
   },
   "source": [
    "# add DROPOUT layer"
   ]
  },
  {
   "cell_type": "markdown",
   "metadata": {},
   "source": [
    "```python\n",
    "model.add(LSTM(\n",
    "    units = CELL_SIZE,\n",
    "    input_shape = (TIME_STEPS,INPUT_SIZE),\n",
    "    return_sequences=False,      \n",
    "    stateful=False,              \n",
    "))\n",
    "model.add(Dropout(0.2))             # Drop out\n",
    "model.add(Dense(OUTPUT_SIZE))\n",
    "```"
   ]
  },
  {
   "cell_type": "markdown",
   "metadata": {},
   "source": [
    "Epoch <font color='red'>500/500</font>\n",
    "12067/12067 [==============================] - 0s \n",
    "- loss: <b>0.1466</b> - binary_accuracy: <b>0.9436</b> - precision: <b>0.8852</b> - recall: <b>0.8315</b><br>\n",
    "- val_loss: <b>2.1843</b> - val_binary_accuracy: <b>0.7631</b> - val_precision: <b>0.2146</b> - val_recall: <b>0.1054</b>"
   ]
  },
  {
   "cell_type": "markdown",
   "metadata": {},
   "source": [
    "# DROPOUT recurrent layer in LSTM"
   ]
  },
  {
   "cell_type": "markdown",
   "metadata": {},
   "source": [
    "```python\n",
    "model.add(LSTM(\n",
    "    units = CELL_SIZE,\n",
    "    input_shape = (TIME_STEPS,INPUT_SIZE),\n",
    "    return_sequences=False,      \n",
    "    stateful=False,              \n",
    "    #dropout=0.2,\n",
    "    recurrent_dropout=0.2,        # rucurrent dropout\n",
    "))\n",
    "model.add(Dense(OUTPUT_SIZE))\n",
    "model.compile(loss=loss_function, optimizer='adam', metrics=[binary_accuracy,precision, recall])\n",
    "```"
   ]
  },
  {
   "cell_type": "markdown",
   "metadata": {},
   "source": [
    "epoch <font color='red'>500/500</font>\n",
    "12067/12067 [==============================] - 0s\n",
    "- loss: <b>0.0486</b> - binary_accuracy: <b>0.9966</b> - precision: <b>0.9996</b> - recall: <b>0.9847</b></br>\n",
    "- val_loss: <b>3.2203</b> - val_binary_accuracy: <b>0.7256</b> - val_precision: <b>0.2042</b> - val_recall: <b>0.1776</b>"
   ]
  },
  {
   "cell_type": "markdown",
   "metadata": {},
   "source": [
    "# DROPOUT in LSTM"
   ]
  },
  {
   "cell_type": "markdown",
   "metadata": {},
   "source": [
    "```python\n",
    "model.add(LSTM(\n",
    "    units = CELL_SIZE,\n",
    "    input_shape = (TIME_STEPS,INPUT_SIZE),\n",
    "    return_sequences=False,      \n",
    "    stateful=False,              \n",
    "    dropout=0.2,                         # dropout in LSTM node\n",
    "    #recurrent_dropout=0.2,        \n",
    "))\n",
    "model.add(Dense(OUTPUT_SIZE))\n",
    "model.compile(loss=loss_function, optimizer='adam', metrics=[binary_accuracy,precision, recall])\n",
    "```"
   ]
  },
  {
   "cell_type": "markdown",
   "metadata": {},
   "source": [
    "Epoch <font color='red'>500/500</font>\n",
    "12067/12067 [==============================] - 0s \n",
    "- loss: <b>0.3692</b> - binary_accuracy: <b>0.8449</b> - precision: <b>0.7456</b> - recall: <b>0.3483<b></b>\n",
    "- val_loss: <b>1.1968</b> - val_binary_accuracy: <b>0.7933</b> - val_precision: <b>0.1830</b> - val_recall: <b>0.0546</b>"
   ]
  },
  {
   "cell_type": "code",
   "execution_count": null,
   "metadata": {
    "collapsed": true
   },
   "outputs": [],
   "source": []
  }
 ],
 "metadata": {
  "kernelspec": {
   "display_name": "Python 3",
   "language": "python",
   "name": "python3"
  },
  "language_info": {
   "codemirror_mode": {
    "name": "ipython",
    "version": 3
   },
   "file_extension": ".py",
   "mimetype": "text/x-python",
   "name": "python",
   "nbconvert_exporter": "python",
   "pygments_lexer": "ipython3",
   "version": "3.5.2"
  }
 },
 "nbformat": 4,
 "nbformat_minor": 2
}
