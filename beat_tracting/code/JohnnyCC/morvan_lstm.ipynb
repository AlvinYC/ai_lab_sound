{
 "cells": [
  {
   "cell_type": "code",
   "execution_count": 1,
   "metadata": {},
   "outputs": [
    {
     "name": "stderr",
     "output_type": "stream",
     "text": [
      "Using TensorFlow backend.\n"
     ]
    }
   ],
   "source": [
    "\"\"\"\n",
    "To know more or get code samples, please visit my website:\n",
    "https://morvanzhou.github.io/tutorials/\n",
    "Or search: 莫烦Python\n",
    "Thank you for supporting!\n",
    "\"\"\"\n",
    "\n",
    "# please note, all tutorial code are running under python3.5.\n",
    "# If you use the version like python2.7, please modify the code accordingly\n",
    "\n",
    "# 8 - RNN LSTM Regressor example\n",
    "\n",
    "# to try tensorflow, un-comment following two lines\n",
    "# import os\n",
    "# os.environ['KERAS_BACKEND']='tensorflow'\n",
    "%matplotlib inline\n",
    "import numpy as np\n",
    "np.random.seed(1337)  # for reproducibility\n",
    "import matplotlib.pyplot as plt\n",
    "from keras.models import Sequential\n",
    "from keras.layers import LSTM, TimeDistributed, Dense\n",
    "from keras.optimizers import Adam\n",
    "\n",
    "BATCH_START = 0\n",
    "TIME_STEPS = 20\n",
    "BATCH_SIZE = 50\n",
    "INPUT_SIZE = 1\n",
    "OUTPUT_SIZE = 1\n",
    "CELL_SIZE = 20\n",
    "LR = 0.006"
   ]
  },
  {
   "cell_type": "code",
   "execution_count": null,
   "metadata": {
    "collapsed": true
   },
   "outputs": [],
   "source": [
    "def get_batch():\n",
    "    global BATCH_START, TIME_STEPS\n",
    "    # xs shape (50batch, 20steps)\n",
    "    xs = np.arange(BATCH_START, BATCH_START+TIME_STEPS*BATCH_SIZE).reshape((BATCH_SIZE, TIME_STEPS)) / (10*np.pi)\n",
    "    seq = np.sin(xs)\n",
    "    res = np.cos(xs)\n",
    "    BATCH_START += TIME_STEPS\n",
    "    # plt.plot(xs[0, :], res[0, :], 'r', xs[0, :], seq[0, :], 'b--')\n",
    "    # plt.show()\n",
    "    return [seq[:, :, np.newaxis], res[:, :, np.newaxis], xs]"
   ]
  },
  {
   "cell_type": "code",
   "execution_count": null,
   "metadata": {},
   "outputs": [],
   "source": [
    "model = Sequential()\n",
    "# build a LSTM RNN\n",
    "model.add(LSTM(\n",
    "    batch_input_shape=(BATCH_SIZE, TIME_STEPS, INPUT_SIZE),       # Or: input_dim=INPUT_SIZE, input_length=TIME_STEPS,\n",
    "    output_dim=CELL_SIZE,\n",
    "    return_sequences=True,      # True: output at all steps. False: output as last step.\n",
    "    stateful=True,              # True: the final state of batch1 is feed into the initial state of batch2\n",
    "))\n",
    "# add output layer\n",
    "model.add(TimeDistributed(Dense(OUTPUT_SIZE)))\n",
    "adam = Adam(LR)\n",
    "model.compile(optimizer=adam, loss='mse',)"
   ]
  },
  {
   "cell_type": "code",
   "execution_count": 24,
   "metadata": {},
   "outputs": [
    {
     "name": "stdout",
     "output_type": "stream",
     "text": [
      "BATCH_START: 440, TIME_STEPS: 20,BATCH_SIZE: 50\n",
      "TIME_STEPS*BATCH_SIZE: 1000\n",
      "seq.shape = (50, 20)\n",
      "(50, 20, 1)\n",
      "(50, 20, 1)\n",
      "(50, 20)\n",
      "\n",
      "first time step seq[0], shape is(20,)\n",
      "\n",
      "[ 0.99136214  0.99503397  0.99769772  0.99935067  0.99999115  0.99961851\n",
      "  0.99823313  0.99583642  0.9924308   0.98801972  0.98260765  0.97620008\n",
      "  0.96880349  0.96042538  0.95107424  0.94075955  0.92949174  0.91728224\n",
      "  0.90414342  0.89008859]\n",
      "first batch, first time step, the shape will be(20, 1)\n",
      "[[ 0.13115301]\n",
      " [ 0.09953587]\n",
      " [ 0.06781788]\n",
      " [ 0.03603118]\n",
      " [ 0.00420798]\n",
      " [-0.02761948]\n",
      " [-0.05941896]\n",
      " [-0.09115825]\n",
      " [-0.12280517]\n",
      " [-0.15432768]\n",
      " [-0.18569384]\n",
      " [-0.21687187]\n",
      " [-0.24783017]\n",
      " [-0.2785374 ]\n",
      " [-0.30896243]\n",
      " [-0.33907444]\n",
      " [-0.36884293]\n",
      " [-0.39823773]\n",
      " [-0.42722907]\n",
      " [-0.45578757]]\n"
     ]
    }
   ],
   "source": [
    "import pandas as pd\n",
    "# alvin test code\n",
    "# xs shape (50batch, 20steps)\n",
    "print('BATCH_START: '+str(BATCH_START) +', TIME_STEPS: ' + str(TIME_STEPS) + ',BATCH_SIZE: '+str(BATCH_SIZE))\n",
    "print('TIME_STEPS*BATCH_SIZE: ' + str(TIME_STEPS*BATCH_SIZE))\n",
    "\n",
    "xs = np.arange(BATCH_START, BATCH_START+TIME_STEPS*BATCH_SIZE).reshape((BATCH_SIZE, TIME_STEPS)) / (10*np.pi)\n",
    "seq = np.sin(xs)\n",
    "res = np.cos(xs)\n",
    "BATCH_START += TIME_STEPS\n",
    "# plt.plot(xs[0, :], res[0, :], 'r', xs[0, :], seq[0, :], 'b--')\n",
    "# plt.show()\n",
    "x_batch = seq[:, :, np.newaxis]\n",
    "y_batch = res[:, :, np.newaxis]\n",
    "print('seq.shape = ' + str(seq.shape))\n",
    "#display(pd.DataFrame(seq))\n",
    "\n",
    "print(x_batch.shape)\n",
    "#display(pd.DataFrame(x_batch))\n",
    "print(y_batch.shape)\n",
    "print(seq.shape)\n",
    "print('\\nfirst time step seq[0], shape is'+str(seq[0].shape)+'\\n')\n",
    "print(seq[0])\n",
    "print('first batch, first time step, the shape will be' + str(y_batch[0].shape))\n",
    "print(y_batch[0])"
   ]
  },
  {
   "cell_type": "code",
   "execution_count": null,
   "metadata": {},
   "outputs": [],
   "source": [
    "print('Training ------------')\n",
    "for step in range(501):\n",
    "    # data shape = (batch_num, steps, inputs/outputs)\n",
    "    X_batch, Y_batch, xs = get_batch()\n",
    "    cost = model.train_on_batch(X_batch, Y_batch)\n",
    "    pred = model.predict(X_batch, BATCH_SIZE)\n",
    "    plt.plot(xs[0, :], Y_batch[0].flatten(), 'r', xs[0, :], pred.flatten()[:TIME_STEPS], 'b--')\n",
    "    plt.ylim((-1.2, 1.2))\n",
    "    plt.draw()\n",
    "    plt.pause(0.1)\n",
    "    if step % 10 == 0:\n",
    "        print('train cost: ', cost)"
   ]
  },
  {
   "cell_type": "code",
   "execution_count": null,
   "metadata": {
    "collapsed": true
   },
   "outputs": [],
   "source": []
  }
 ],
 "metadata": {
  "kernelspec": {
   "display_name": "Python 3",
   "language": "python",
   "name": "python3"
  },
  "language_info": {
   "codemirror_mode": {
    "name": "ipython",
    "version": 3
   },
   "file_extension": ".py",
   "mimetype": "text/x-python",
   "name": "python",
   "nbconvert_exporter": "python",
   "pygments_lexer": "ipython3",
   "version": "3.5.2"
  }
 },
 "nbformat": 4,
 "nbformat_minor": 2
}
